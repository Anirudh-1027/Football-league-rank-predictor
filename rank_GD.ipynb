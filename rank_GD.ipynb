{
 "cells": [
  {
   "cell_type": "code",
   "execution_count": 30,
   "metadata": {
    "colab": {
     "base_uri": "https://localhost:8080/"
    },
    "id": "0-7W2ymbSBge",
    "outputId": "d4a92ac0-2ccb-416a-d91b-25c41661fd5d"
   },
   "outputs": [
    {
     "name": "stdout",
     "output_type": "stream",
     "text": [
      "     Rk           Squad  MP   W   D   L  GF  GA  Pts  Attendance  \\\n",
      "0     1  Manchester Utd  38  25   7   6  73  35   82       41001   \n",
      "1     2   Newcastle Utd  38  24   6   8  66  37   78       36501   \n",
      "2     3       Liverpool  38  20  11   7  70  34   71       39553   \n",
      "3     4     Aston Villa  38  18   9  11  52  35   63       37492   \n",
      "4     5         Arsenal  38  17  12   9  49  32   63       32614   \n",
      "..   ..             ...  ..  ..  ..  ..  ..  ..  ...         ...   \n",
      "495  16        West Ham  38  10   9  19  49  62   39       44155   \n",
      "496  17     Aston Villa  38   9   8  21  41  67   35       28505   \n",
      "497  18     Bournemouth  38   9   7  22  40  65   34        7745   \n",
      "498  19         Watford  38   8  10  20  36  64   34       15353   \n",
      "499  20    Norwich City  38   5   6  27  26  75   21       19913   \n",
      "\n",
      "          Top Team Scorer        Goalkeeper  Year  \n",
      "0       Eric Cantona - 14  Peter Schmeichel  1996  \n",
      "1      Les Ferdinand - 25      Shaka Hislop  1996  \n",
      "2      Robbie Fowler - 28       David James  1996  \n",
      "3       Dwight Yorke - 17      Mark Bosnich  1996  \n",
      "4         Ian Wright - 15      David Seaman  1996  \n",
      "..                    ...               ...   ...  \n",
      "495  Michail Antonio - 10  Łukasz Fabiański  2020  \n",
      "496     Jack Grealish - 8        Tom Heaton  2020  \n",
      "497     Callum Wilson - 8    Aaron Ramsdale  2020  \n",
      "498      Troy Deeney - 10        Ben Foster  2020  \n",
      "499      Teemu Pukki - 11          Tim Krul  2020  \n",
      "\n",
      "[500 rows x 13 columns]\n"
     ]
    }
   ],
   "source": [
    "import numpy as np\n",
    "import pandas as pd\n",
    "import matplotlib.pyplot as plt\n",
    "\n",
    "path=\"pl_standings.csv\"\n",
    " \n",
    "df = pd.read_csv(path)\n",
    "print(df)\n",
    "\n",
    "df['GD'] = df['GF'] - df['GA']\n",
    "X = df['GD'].values.reshape(-1,1)\n",
    "y = df['Rk']\n",
    "\n",
    "from sklearn.model_selection import train_test_split\n",
    "X_train, X_test, y_train, y_test = train_test_split(X, y,\n",
    " test_size=0.2,\n",
    "random_state=42)\n",
    "\n",
    "\n"
   ]
  },
  {
   "cell_type": "code",
   "execution_count": 32,
   "metadata": {
    "colab": {
     "base_uri": "https://localhost:8080/",
     "height": 473
    },
    "id": "07DRyLZDUUYy",
    "outputId": "55b53495-85f0-4674-92ae-f01f3349d76e"
   },
   "outputs": [
    {
     "name": "stdout",
     "output_type": "stream",
     "text": [
      "Prediction\tActual Value\n",
      "-0.38\t\t\t2.000000\n",
      "11.57\t\t\t14.000000\n",
      "15.20\t\t\t15.000000\n",
      "11.57\t\t\t16.000000\n",
      "7.30\t\t\t5.000000\n",
      "15.41\t\t\t15.000000\n",
      "17.76\t\t\t18.000000\n",
      "7.09\t\t\t5.000000\n",
      "11.78\t\t\t9.000000\n",
      "12.63\t\t\t11.000000\n",
      "0.7877631768613127\n"
     ]
    }
   ],
   "source": [
    "from sklearn.linear_model import LinearRegression\n",
    "linearRegression = LinearRegression()\n",
    "model=linearRegression.fit(X, y)\n",
    "m = linearRegression.predict(X_test[:10])\n",
    "n = y_test[:10].values\n",
    "print('Prediction\\tActual Value')\n",
    "for i in range(10):\n",
    " print(\"%.2f\\t\\t\\t%f\"%(m[i], n[i]))\n",
    "r2_Score = linearRegression.score(X_test, y_test)\n",
    "print(r2_Score)"
   ]
  },
  {
   "cell_type": "code",
   "execution_count": 33,
   "metadata": {
    "colab": {
     "base_uri": "https://localhost:8080/",
     "height": 554
    },
    "id": "xyaf10B9wRdF",
    "outputId": "7726202f-400f-4863-f86c-7df5b6790449"
   },
   "outputs": [
    {
     "data": {
      "text/html": [
       "<table class=\"simpletable\">\n",
       "<caption>OLS Regression Results</caption>\n",
       "<tr>\n",
       "  <th>Dep. Variable:</th>           <td>Rk</td>        <th>  R-squared (uncentered):</th>      <td>   0.202</td>\n",
       "</tr>\n",
       "<tr>\n",
       "  <th>Model:</th>                   <td>OLS</td>       <th>  Adj. R-squared (uncentered):</th> <td>   0.200</td>\n",
       "</tr>\n",
       "<tr>\n",
       "  <th>Method:</th>             <td>Least Squares</td>  <th>  F-statistic:       </th>          <td>   101.0</td>\n",
       "</tr>\n",
       "<tr>\n",
       "  <th>Date:</th>             <td>Wed, 27 Jul 2022</td> <th>  Prob (F-statistic):</th>          <td>2.44e-21</td>\n",
       "</tr>\n",
       "<tr>\n",
       "  <th>Time:</th>                 <td>15:09:35</td>     <th>  Log-Likelihood:    </th>          <td> -1514.2</td>\n",
       "</tr>\n",
       "<tr>\n",
       "  <th>No. Observations:</th>      <td>   400</td>      <th>  AIC:               </th>          <td>   3030.</td>\n",
       "</tr>\n",
       "<tr>\n",
       "  <th>Df Residuals:</th>          <td>   399</td>      <th>  BIC:               </th>          <td>   3034.</td>\n",
       "</tr>\n",
       "<tr>\n",
       "  <th>Df Model:</th>              <td>     1</td>      <th>                     </th>              <td> </td>   \n",
       "</tr>\n",
       "<tr>\n",
       "  <th>Covariance Type:</th>      <td>nonrobust</td>    <th>                     </th>              <td> </td>   \n",
       "</tr>\n",
       "</table>\n",
       "<table class=\"simpletable\">\n",
       "<tr>\n",
       "   <td></td>     <th>coef</th>     <th>std err</th>      <th>t</th>      <th>P>|t|</th>  <th>[0.025</th>    <th>0.975]</th>  \n",
       "</tr>\n",
       "<tr>\n",
       "  <th>x1</th> <td>   -0.2159</td> <td>    0.021</td> <td>  -10.052</td> <td> 0.000</td> <td>   -0.258</td> <td>   -0.174</td>\n",
       "</tr>\n",
       "</table>\n",
       "<table class=\"simpletable\">\n",
       "<tr>\n",
       "  <th>Omnibus:</th>       <td> 0.118</td> <th>  Durbin-Watson:     </th> <td>   0.088</td>\n",
       "</tr>\n",
       "<tr>\n",
       "  <th>Prob(Omnibus):</th> <td> 0.943</td> <th>  Jarque-Bera (JB):  </th> <td>   0.185</td>\n",
       "</tr>\n",
       "<tr>\n",
       "  <th>Skew:</th>          <td> 0.038</td> <th>  Prob(JB):          </th> <td>   0.912</td>\n",
       "</tr>\n",
       "<tr>\n",
       "  <th>Kurtosis:</th>      <td> 2.926</td> <th>  Cond. No.          </th> <td>    1.00</td>\n",
       "</tr>\n",
       "</table><br/><br/>Notes:<br/>[1] R² is computed without centering (uncentered) since the model does not contain a constant.<br/>[2] Standard Errors assume that the covariance matrix of the errors is correctly specified."
      ],
      "text/plain": [
       "<class 'statsmodels.iolib.summary.Summary'>\n",
       "\"\"\"\n",
       "                                 OLS Regression Results                                \n",
       "=======================================================================================\n",
       "Dep. Variable:                     Rk   R-squared (uncentered):                   0.202\n",
       "Model:                            OLS   Adj. R-squared (uncentered):              0.200\n",
       "Method:                 Least Squares   F-statistic:                              101.0\n",
       "Date:                Wed, 27 Jul 2022   Prob (F-statistic):                    2.44e-21\n",
       "Time:                        15:09:35   Log-Likelihood:                         -1514.2\n",
       "No. Observations:                 400   AIC:                                      3030.\n",
       "Df Residuals:                     399   BIC:                                      3034.\n",
       "Df Model:                           1                                                  \n",
       "Covariance Type:            nonrobust                                                  \n",
       "==============================================================================\n",
       "                 coef    std err          t      P>|t|      [0.025      0.975]\n",
       "------------------------------------------------------------------------------\n",
       "x1            -0.2159      0.021    -10.052      0.000      -0.258      -0.174\n",
       "==============================================================================\n",
       "Omnibus:                        0.118   Durbin-Watson:                   0.088\n",
       "Prob(Omnibus):                  0.943   Jarque-Bera (JB):                0.185\n",
       "Skew:                           0.038   Prob(JB):                        0.912\n",
       "Kurtosis:                       2.926   Cond. No.                         1.00\n",
       "==============================================================================\n",
       "\n",
       "Notes:\n",
       "[1] R² is computed without centering (uncentered) since the model does not contain a constant.\n",
       "[2] Standard Errors assume that the covariance matrix of the errors is correctly specified.\n",
       "\"\"\""
      ]
     },
     "execution_count": 33,
     "metadata": {},
     "output_type": "execute_result"
    }
   ],
   "source": [
    "import statsmodels.api as sm      \n",
    "x_train = sm.add_constant(X_train)\n",
    "lm_1 = sm.OLS(y_train, X_train).fit()\n",
    "lm_1.summary()"
   ]
  },
  {
   "cell_type": "code",
   "execution_count": 34,
   "metadata": {},
   "outputs": [],
   "source": [
    "intercept = model.intercept_\n",
    "slope = model.coef_"
   ]
  },
  {
   "cell_type": "code",
   "execution_count": 35,
   "metadata": {},
   "outputs": [],
   "source": [
    "y_pred = intercept + slope*X"
   ]
  },
  {
   "cell_type": "code",
   "execution_count": 37,
   "metadata": {},
   "outputs": [
    {
     "data": {
      "text/plain": [
       "Text(0.5, 1.0, 'Evaluating the Relationship Between Goal Differential and League Table Rank\\nPremier League Seasons 1995/96 - 2019/20')"
      ]
     },
     "execution_count": 37,
     "metadata": {},
     "output_type": "execute_result"
    },
    {
     "data": {
      "image/png": "[encoded data removed]",
      "text/plain": [
       "<Figure size 720x720 with 1 Axes>"
      ]
     },
     "metadata": {
      "needs_background": "light"
     },
     "output_type": "display_data"
    }
   ],
   "source": [
    "fig,ax = plt.subplots(figsize=(10,10))\n",
    "\n",
    "plt.scatter(X,y)\n",
    "\n",
    "\n",
    "plt.yticks([1,2,3,4,5,6,7,8,9,10,11,12,13,14,15,16,17,18,19,20])\n",
    "plt.gca().invert_yaxis()\n",
    "\n",
    "plt.xlabel('Goal Differential')\n",
    "plt.ylabel('Final League Rank')\n",
    "plt.title('Evaluating the Relationship Between Goal Differential and League Table Rank\\nPremier League Seasons 1995/96 - 2019/20',ha='center',fontsize=16)\n"
   ]
  },
  {
   "cell_type": "code",
   "execution_count": null,
   "metadata": {},
   "outputs": [],
   "source": []
  }
 ],
 "metadata": {
  "colab": {
   "collapsed_sections": [],
   "name": "Linear_reg.ipynb",
   "provenance": []
  },
  "kernelspec": {
   "display_name": "Python 3.8.0 64-bit",
   "language": "python",
   "name": "python3"
  },
  "language_info": {
   "codemirror_mode": {
    "name": "ipython",
    "version": 3
   },
   "file_extension": ".py",
   "mimetype": "text/x-python",
   "name": "python",
   "nbconvert_exporter": "python",
   "pygments_lexer": "ipython3",
   "version": "3.8.0"
  },
  "vscode": {
   "interpreter": {
    "hash": "b081a66ee97bd2b6a16f43955f1d810b7ea816d6eaeb65e157ef9e038445f0c6"
   }
  }
 },
 "nbformat": 4,
 "nbformat_minor": 1
}
